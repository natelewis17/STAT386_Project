{
 "cells": [
  {
   "cell_type": "code",
   "execution_count": null,
   "metadata": {},
   "outputs": [],
   "source": [
    "# Read in csv as df for future use\n",
    "file_path = 'kanji.csv'\n",
    "kanji_df = pd.read_csv(file_path)\n",
    "\n",
    "# Display the first few rows of the DataFrame to verify import\n",
    "print(kanji_df)"
   ]
  }
 ],
 "metadata": {
  "language_info": {
   "name": "python"
  }
 },
 "nbformat": 4,
 "nbformat_minor": 2
}
